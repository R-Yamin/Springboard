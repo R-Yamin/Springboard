{
 "cells": [
  {
   "cell_type": "markdown",
   "metadata": {},
   "source": [
    "# Relax Challenge"
   ]
  },
  {
   "cell_type": "code",
   "execution_count": 1,
   "metadata": {},
   "outputs": [],
   "source": [
    "# import modules and libraries\n",
    "import pandas as pd\n",
    "import matplotlib.pyplot as plt\n",
    "import numpy as np\n",
    "from datetime import datetime, timedelta\n",
    "from sklearn.model_selection import train_test_split, GridSearchCV\n",
    "from sklearn.neighbors import KNeighborsClassifier\n",
    "from sklearn.svm import SVC\n",
    "from sklearn.ensemble import RandomForestClassifier\n",
    "from sklearn.linear_model import LogisticRegression\n",
    "from sklearn.metrics import classification_report, roc_curve, auc"
   ]
  },
  {
   "cell_type": "markdown",
   "metadata": {},
   "source": [
    "## 1. Exploring data"
   ]
  },
  {
   "cell_type": "code",
   "execution_count": 2,
   "metadata": {},
   "outputs": [],
   "source": [
    "# Export csv files as dataframes\n",
    "users = pd.read_csv('C:/Jupyter_Notebooks/relax_challenge/relax_challenge/takehome_users.csv', encoding='latin1')\n",
    "user_engagement = pd.read_csv('takehome_user_engagement.csv')"
   ]
  },
  {
   "cell_type": "code",
   "execution_count": 3,
   "metadata": {
    "scrolled": false
   },
   "outputs": [
    {
     "name": "stdout",
     "output_type": "stream",
     "text": [
      "<class 'pandas.core.frame.DataFrame'>\n",
      "RangeIndex: 12000 entries, 0 to 11999\n",
      "Data columns (total 10 columns):\n",
      "object_id                     12000 non-null int64\n",
      "creation_time                 12000 non-null object\n",
      "name                          12000 non-null object\n",
      "email                         12000 non-null object\n",
      "creation_source               12000 non-null object\n",
      "last_session_creation_time    8823 non-null float64\n",
      "opted_in_to_mailing_list      12000 non-null int64\n",
      "enabled_for_marketing_drip    12000 non-null int64\n",
      "org_id                        12000 non-null int64\n",
      "invited_by_user_id            6417 non-null float64\n",
      "dtypes: float64(2), int64(4), object(4)\n",
      "memory usage: 937.6+ KB\n"
     ]
    }
   ],
   "source": [
    "users.info()"
   ]
  },
  {
   "cell_type": "markdown",
   "metadata": {},
   "source": [
    "Looks like we are missing some values for the last_session_creation_time and the invited_by_user."
   ]
  },
  {
   "cell_type": "code",
   "execution_count": 4,
   "metadata": {},
   "outputs": [
    {
     "data": {
      "text/html": [
       "<div>\n",
       "<style scoped>\n",
       "    .dataframe tbody tr th:only-of-type {\n",
       "        vertical-align: middle;\n",
       "    }\n",
       "\n",
       "    .dataframe tbody tr th {\n",
       "        vertical-align: top;\n",
       "    }\n",
       "\n",
       "    .dataframe thead th {\n",
       "        text-align: right;\n",
       "    }\n",
       "</style>\n",
       "<table border=\"1\" class=\"dataframe\">\n",
       "  <thead>\n",
       "    <tr style=\"text-align: right;\">\n",
       "      <th></th>\n",
       "      <th>object_id</th>\n",
       "      <th>creation_time</th>\n",
       "      <th>name</th>\n",
       "      <th>email</th>\n",
       "      <th>creation_source</th>\n",
       "      <th>last_session_creation_time</th>\n",
       "      <th>opted_in_to_mailing_list</th>\n",
       "      <th>enabled_for_marketing_drip</th>\n",
       "      <th>org_id</th>\n",
       "      <th>invited_by_user_id</th>\n",
       "    </tr>\n",
       "  </thead>\n",
       "  <tbody>\n",
       "    <tr>\n",
       "      <th>0</th>\n",
       "      <td>1</td>\n",
       "      <td>2014-04-22 03:53:30</td>\n",
       "      <td>Clausen August</td>\n",
       "      <td>AugustCClausen@yahoo.com</td>\n",
       "      <td>GUEST_INVITE</td>\n",
       "      <td>1.398139e+09</td>\n",
       "      <td>1</td>\n",
       "      <td>0</td>\n",
       "      <td>11</td>\n",
       "      <td>10803.0</td>\n",
       "    </tr>\n",
       "    <tr>\n",
       "      <th>1</th>\n",
       "      <td>2</td>\n",
       "      <td>2013-11-15 03:45:04</td>\n",
       "      <td>Poole Matthew</td>\n",
       "      <td>MatthewPoole@gustr.com</td>\n",
       "      <td>ORG_INVITE</td>\n",
       "      <td>1.396238e+09</td>\n",
       "      <td>0</td>\n",
       "      <td>0</td>\n",
       "      <td>1</td>\n",
       "      <td>316.0</td>\n",
       "    </tr>\n",
       "    <tr>\n",
       "      <th>2</th>\n",
       "      <td>3</td>\n",
       "      <td>2013-03-19 23:14:52</td>\n",
       "      <td>Bottrill Mitchell</td>\n",
       "      <td>MitchellBottrill@gustr.com</td>\n",
       "      <td>ORG_INVITE</td>\n",
       "      <td>1.363735e+09</td>\n",
       "      <td>0</td>\n",
       "      <td>0</td>\n",
       "      <td>94</td>\n",
       "      <td>1525.0</td>\n",
       "    </tr>\n",
       "    <tr>\n",
       "      <th>3</th>\n",
       "      <td>4</td>\n",
       "      <td>2013-05-21 08:09:28</td>\n",
       "      <td>Clausen Nicklas</td>\n",
       "      <td>NicklasSClausen@yahoo.com</td>\n",
       "      <td>GUEST_INVITE</td>\n",
       "      <td>1.369210e+09</td>\n",
       "      <td>0</td>\n",
       "      <td>0</td>\n",
       "      <td>1</td>\n",
       "      <td>5151.0</td>\n",
       "    </tr>\n",
       "    <tr>\n",
       "      <th>4</th>\n",
       "      <td>5</td>\n",
       "      <td>2013-01-17 10:14:20</td>\n",
       "      <td>Raw Grace</td>\n",
       "      <td>GraceRaw@yahoo.com</td>\n",
       "      <td>GUEST_INVITE</td>\n",
       "      <td>1.358850e+09</td>\n",
       "      <td>0</td>\n",
       "      <td>0</td>\n",
       "      <td>193</td>\n",
       "      <td>5240.0</td>\n",
       "    </tr>\n",
       "  </tbody>\n",
       "</table>\n",
       "</div>"
      ],
      "text/plain": [
       "   object_id        creation_time               name  \\\n",
       "0          1  2014-04-22 03:53:30     Clausen August   \n",
       "1          2  2013-11-15 03:45:04      Poole Matthew   \n",
       "2          3  2013-03-19 23:14:52  Bottrill Mitchell   \n",
       "3          4  2013-05-21 08:09:28    Clausen Nicklas   \n",
       "4          5  2013-01-17 10:14:20          Raw Grace   \n",
       "\n",
       "                        email creation_source  last_session_creation_time  \\\n",
       "0    AugustCClausen@yahoo.com    GUEST_INVITE                1.398139e+09   \n",
       "1      MatthewPoole@gustr.com      ORG_INVITE                1.396238e+09   \n",
       "2  MitchellBottrill@gustr.com      ORG_INVITE                1.363735e+09   \n",
       "3   NicklasSClausen@yahoo.com    GUEST_INVITE                1.369210e+09   \n",
       "4          GraceRaw@yahoo.com    GUEST_INVITE                1.358850e+09   \n",
       "\n",
       "   opted_in_to_mailing_list  enabled_for_marketing_drip  org_id  \\\n",
       "0                         1                           0      11   \n",
       "1                         0                           0       1   \n",
       "2                         0                           0      94   \n",
       "3                         0                           0       1   \n",
       "4                         0                           0     193   \n",
       "\n",
       "   invited_by_user_id  \n",
       "0             10803.0  \n",
       "1               316.0  \n",
       "2              1525.0  \n",
       "3              5151.0  \n",
       "4              5240.0  "
      ]
     },
     "execution_count": 4,
     "metadata": {},
     "output_type": "execute_result"
    }
   ],
   "source": [
    "users.head()"
   ]
  },
  {
   "cell_type": "code",
   "execution_count": 5,
   "metadata": {},
   "outputs": [
    {
     "data": {
      "text/html": [
       "<div>\n",
       "<style scoped>\n",
       "    .dataframe tbody tr th:only-of-type {\n",
       "        vertical-align: middle;\n",
       "    }\n",
       "\n",
       "    .dataframe tbody tr th {\n",
       "        vertical-align: top;\n",
       "    }\n",
       "\n",
       "    .dataframe thead th {\n",
       "        text-align: right;\n",
       "    }\n",
       "</style>\n",
       "<table border=\"1\" class=\"dataframe\">\n",
       "  <thead>\n",
       "    <tr style=\"text-align: right;\">\n",
       "      <th></th>\n",
       "      <th>time_stamp</th>\n",
       "      <th>user_id</th>\n",
       "      <th>visited</th>\n",
       "    </tr>\n",
       "  </thead>\n",
       "  <tbody>\n",
       "    <tr>\n",
       "      <th>0</th>\n",
       "      <td>2014-04-22 03:53:30</td>\n",
       "      <td>1</td>\n",
       "      <td>1</td>\n",
       "    </tr>\n",
       "    <tr>\n",
       "      <th>1</th>\n",
       "      <td>2013-11-15 03:45:04</td>\n",
       "      <td>2</td>\n",
       "      <td>1</td>\n",
       "    </tr>\n",
       "    <tr>\n",
       "      <th>2</th>\n",
       "      <td>2013-11-29 03:45:04</td>\n",
       "      <td>2</td>\n",
       "      <td>1</td>\n",
       "    </tr>\n",
       "    <tr>\n",
       "      <th>3</th>\n",
       "      <td>2013-12-09 03:45:04</td>\n",
       "      <td>2</td>\n",
       "      <td>1</td>\n",
       "    </tr>\n",
       "    <tr>\n",
       "      <th>4</th>\n",
       "      <td>2013-12-25 03:45:04</td>\n",
       "      <td>2</td>\n",
       "      <td>1</td>\n",
       "    </tr>\n",
       "  </tbody>\n",
       "</table>\n",
       "</div>"
      ],
      "text/plain": [
       "            time_stamp  user_id  visited\n",
       "0  2014-04-22 03:53:30        1        1\n",
       "1  2013-11-15 03:45:04        2        1\n",
       "2  2013-11-29 03:45:04        2        1\n",
       "3  2013-12-09 03:45:04        2        1\n",
       "4  2013-12-25 03:45:04        2        1"
      ]
     },
     "execution_count": 5,
     "metadata": {},
     "output_type": "execute_result"
    }
   ],
   "source": [
    "user_engagement.head()"
   ]
  },
  {
   "cell_type": "code",
   "execution_count": 6,
   "metadata": {},
   "outputs": [
    {
     "name": "stdout",
     "output_type": "stream",
     "text": [
      "<class 'pandas.core.frame.DataFrame'>\n",
      "RangeIndex: 207917 entries, 0 to 207916\n",
      "Data columns (total 3 columns):\n",
      "time_stamp    207917 non-null object\n",
      "user_id       207917 non-null int64\n",
      "visited       207917 non-null int64\n",
      "dtypes: int64(2), object(1)\n",
      "memory usage: 4.8+ MB\n"
     ]
    }
   ],
   "source": [
    "user_engagement.info()"
   ]
  },
  {
   "cell_type": "markdown",
   "metadata": {},
   "source": [
    "We do have all in information we need for the user_engagement information. In order to determine and \"adopted user\" label, we need to find users who have logged into the product on 3 separate days during a 7 week period."
   ]
  },
  {
   "cell_type": "code",
   "execution_count": 7,
   "metadata": {},
   "outputs": [
    {
     "data": {
      "text/html": [
       "<div>\n",
       "<style scoped>\n",
       "    .dataframe tbody tr th:only-of-type {\n",
       "        vertical-align: middle;\n",
       "    }\n",
       "\n",
       "    .dataframe tbody tr th {\n",
       "        vertical-align: top;\n",
       "    }\n",
       "\n",
       "    .dataframe thead th {\n",
       "        text-align: right;\n",
       "    }\n",
       "</style>\n",
       "<table border=\"1\" class=\"dataframe\">\n",
       "  <thead>\n",
       "    <tr style=\"text-align: right;\">\n",
       "      <th></th>\n",
       "      <th>user_id</th>\n",
       "      <th>visited</th>\n",
       "    </tr>\n",
       "  </thead>\n",
       "  <tbody>\n",
       "    <tr>\n",
       "      <th>count</th>\n",
       "      <td>207917.000000</td>\n",
       "      <td>207917.0</td>\n",
       "    </tr>\n",
       "    <tr>\n",
       "      <th>mean</th>\n",
       "      <td>5913.314197</td>\n",
       "      <td>1.0</td>\n",
       "    </tr>\n",
       "    <tr>\n",
       "      <th>std</th>\n",
       "      <td>3394.941674</td>\n",
       "      <td>0.0</td>\n",
       "    </tr>\n",
       "    <tr>\n",
       "      <th>min</th>\n",
       "      <td>1.000000</td>\n",
       "      <td>1.0</td>\n",
       "    </tr>\n",
       "    <tr>\n",
       "      <th>25%</th>\n",
       "      <td>3087.000000</td>\n",
       "      <td>1.0</td>\n",
       "    </tr>\n",
       "    <tr>\n",
       "      <th>50%</th>\n",
       "      <td>5682.000000</td>\n",
       "      <td>1.0</td>\n",
       "    </tr>\n",
       "    <tr>\n",
       "      <th>75%</th>\n",
       "      <td>8944.000000</td>\n",
       "      <td>1.0</td>\n",
       "    </tr>\n",
       "    <tr>\n",
       "      <th>max</th>\n",
       "      <td>12000.000000</td>\n",
       "      <td>1.0</td>\n",
       "    </tr>\n",
       "  </tbody>\n",
       "</table>\n",
       "</div>"
      ],
      "text/plain": [
       "             user_id   visited\n",
       "count  207917.000000  207917.0\n",
       "mean     5913.314197       1.0\n",
       "std      3394.941674       0.0\n",
       "min         1.000000       1.0\n",
       "25%      3087.000000       1.0\n",
       "50%      5682.000000       1.0\n",
       "75%      8944.000000       1.0\n",
       "max     12000.000000       1.0"
      ]
     },
     "execution_count": 7,
     "metadata": {},
     "output_type": "execute_result"
    }
   ],
   "source": [
    "user_engagement.describe()"
   ]
  },
  {
   "cell_type": "markdown",
   "metadata": {},
   "source": [
    "We see that visited always has a value of one so every row indicates a visit for a user. We can separate the rows by pulling out user_id and the times they visited, then resample the information by days, including counts of all visits for that day."
   ]
  },
  {
   "cell_type": "code",
   "execution_count": 8,
   "metadata": {
    "scrolled": true
   },
   "outputs": [],
   "source": [
    "# Convert time stamp into Timeseries\n",
    "user_engagement.time_stamp = pd.to_datetime(user_engagement.time_stamp)\n",
    "\n",
    "# Group by user_ID, resampling timeseries data to single day for users\n",
    "user_per_week = user_engagement.groupby(['user_id', pd.Grouper(key='time_stamp', freq=\"W\")]).count().reset_index()"
   ]
  },
  {
   "cell_type": "code",
   "execution_count": 9,
   "metadata": {
    "scrolled": true
   },
   "outputs": [],
   "source": [
    "# Find adopted users\n",
    "adopted_u = {}\n",
    "for index in user_per_week.index:\n",
    "    if user_per_week.visited[index] >=3:\n",
    "        adopted_u[user_per_week.user_id[index]] = 1\n",
    "\n",
    "# Turn adopted users dictionary into series\n",
    "adopted_u = pd.Series(adopted_u)"
   ]
  },
  {
   "cell_type": "code",
   "execution_count": 10,
   "metadata": {},
   "outputs": [],
   "source": [
    "# Set user_id as index for users dataframe\n",
    "new_users = users.set_index('object_id')\n",
    "\n",
    "# concatenate adopted users to users data\n",
    "labeled_users = pd.concat([new_users, adopted_u], axis=1)\n",
    "\n",
    "# Create account age column\n",
    "labeled_users.creation_time = pd.to_datetime(labeled_users.creation_time)\n",
    "\n",
    "converter = lambda x: datetime.utcfromtimestamp(x).strftime('%Y-%m-%d %H:%M:%S')\n",
    "labeled_users.last_session_creation_time = labeled_users.last_session_creation_time.map(converter, na_action='ignore')\n",
    "labeled_users.last_session_creation_time = pd.to_datetime(labeled_users.last_session_creation_time)\n",
    "\n",
    "labeled_users[\"account_age\"] = labeled_users.last_session_creation_time - labeled_users.creation_time"
   ]
  },
  {
   "cell_type": "code",
   "execution_count": 11,
   "metadata": {},
   "outputs": [],
   "source": [
    "# rename last column as adapted users\n",
    "labeled_users = labeled_users.rename(columns={0:'adapted_users'})"
   ]
  },
  {
   "cell_type": "code",
   "execution_count": 12,
   "metadata": {},
   "outputs": [
    {
     "name": "stdout",
     "output_type": "stream",
     "text": [
      "<class 'pandas.core.frame.DataFrame'>\n",
      "Int64Index: 12000 entries, 1 to 12000\n",
      "Data columns (total 11 columns):\n",
      "creation_time                 12000 non-null datetime64[ns]\n",
      "name                          12000 non-null object\n",
      "email                         12000 non-null object\n",
      "creation_source               12000 non-null object\n",
      "last_session_creation_time    8823 non-null datetime64[ns]\n",
      "opted_in_to_mailing_list      12000 non-null int64\n",
      "enabled_for_marketing_drip    12000 non-null int64\n",
      "org_id                        12000 non-null int64\n",
      "invited_by_user_id            6417 non-null float64\n",
      "adapted_users                 1445 non-null float64\n",
      "account_age                   8823 non-null timedelta64[ns]\n",
      "dtypes: datetime64[ns](2), float64(2), int64(3), object(3), timedelta64[ns](1)\n",
      "memory usage: 1.1+ MB\n"
     ]
    }
   ],
   "source": [
    "labeled_users.info()"
   ]
  },
  {
   "cell_type": "code",
   "execution_count": 13,
   "metadata": {
    "scrolled": true
   },
   "outputs": [
    {
     "name": "stdout",
     "output_type": "stream",
     "text": [
      "<class 'pandas.core.frame.DataFrame'>\n",
      "Int64Index: 12000 entries, 1 to 12000\n",
      "Data columns (total 11 columns):\n",
      "opted_in_to_mailing_list              12000 non-null int64\n",
      "enabled_for_marketing_drip            12000 non-null int64\n",
      "org_id                                12000 non-null int64\n",
      "invited_by_user_id                    12000 non-null float64\n",
      "adapted_users                         12000 non-null float64\n",
      "account_age                           12000 non-null float64\n",
      "creation_source_GUEST_INVITE          12000 non-null uint8\n",
      "creation_source_ORG_INVITE            12000 non-null uint8\n",
      "creation_source_PERSONAL_PROJECTS     12000 non-null uint8\n",
      "creation_source_SIGNUP                12000 non-null uint8\n",
      "creation_source_SIGNUP_GOOGLE_AUTH    12000 non-null uint8\n",
      "dtypes: float64(3), int64(3), uint8(5)\n",
      "memory usage: 714.8 KB\n"
     ]
    }
   ],
   "source": [
    "# Create final clean dataframe\n",
    "clean_users = labeled_users.drop(['creation_time', 'name','email','last_session_creation_time'], axis=1)\n",
    "clean_users = pd.get_dummies(clean_users)\n",
    "\n",
    "# Convert timedelta64 data to float64\n",
    "clean_users.account_age = clean_users.account_age / np.timedelta64(1, \"D\")\n",
    "\n",
    "# Fill in NaN values\n",
    "clean_users.fillna(0, inplace = True)\n",
    "\n",
    "clean_users.info()"
   ]
  },
  {
   "cell_type": "code",
   "execution_count": 14,
   "metadata": {},
   "outputs": [],
   "source": [
    "# Modelling to determine best model\n",
    "y = clean_users.adapted_users\n",
    "X = clean_users.drop('adapted_users', axis=1)"
   ]
  },
  {
   "cell_type": "code",
   "execution_count": 15,
   "metadata": {},
   "outputs": [],
   "source": [
    "def train_model(x, y, model, params, test_size=0.2, random_state =42):\n",
    "    \n",
    "    # Split Training and testing data\n",
    "    X_train, X_test, y_train, y_test = train_test_split(x, y, test_size=test_size, random_state=random_state)\n",
    "    \n",
    "    model_cv = GridSearchCV(model, param_grid=params, cv=5, n_jobs=-1, verbose=10)\n",
    "    \n",
    "    model_cv.fit(X_train, y_train)\n",
    "    \n",
    "    y_pred = model_cv.predict(X_test)\n",
    "    \n",
    "    print(f'Best hyperparameters: {model_cv.best_params_}')\n",
    "    print(classification_report(y_test, y_pred))"
   ]
  },
  {
   "cell_type": "code",
   "execution_count": 16,
   "metadata": {},
   "outputs": [
    {
     "name": "stdout",
     "output_type": "stream",
     "text": [
      "Fitting 5 folds for each of 28 candidates, totalling 140 fits\n"
     ]
    },
    {
     "name": "stderr",
     "output_type": "stream",
     "text": [
      "[Parallel(n_jobs=-1)]: Using backend LokyBackend with 8 concurrent workers.\n",
      "[Parallel(n_jobs=-1)]: Done   2 tasks      | elapsed:    2.9s\n",
      "[Parallel(n_jobs=-1)]: Done   9 tasks      | elapsed:    3.0s\n",
      "[Parallel(n_jobs=-1)]: Done  16 tasks      | elapsed:    3.4s\n",
      "[Parallel(n_jobs=-1)]: Done  25 tasks      | elapsed:    3.6s\n",
      "[Parallel(n_jobs=-1)]: Done  34 tasks      | elapsed:    4.0s\n",
      "[Parallel(n_jobs=-1)]: Done  45 tasks      | elapsed:    4.3s\n",
      "[Parallel(n_jobs=-1)]: Done  56 tasks      | elapsed:    4.6s\n",
      "[Parallel(n_jobs=-1)]: Done  69 tasks      | elapsed:    5.0s\n",
      "[Parallel(n_jobs=-1)]: Done  82 tasks      | elapsed:    5.3s\n",
      "[Parallel(n_jobs=-1)]: Done  97 tasks      | elapsed:    5.8s\n",
      "[Parallel(n_jobs=-1)]: Done 112 tasks      | elapsed:    6.3s\n"
     ]
    },
    {
     "name": "stdout",
     "output_type": "stream",
     "text": [
      "Best hyperparameters: {'C': 1, 'penalty': 'l1', 'solver': 'liblinear'}\n",
      "              precision    recall  f1-score   support\n",
      "\n",
      "         0.0       0.99      0.99      0.99      2108\n",
      "         1.0       0.95      0.90      0.92       292\n",
      "\n",
      "    accuracy                           0.98      2400\n",
      "   macro avg       0.97      0.95      0.96      2400\n",
      "weighted avg       0.98      0.98      0.98      2400\n",
      "\n"
     ]
    },
    {
     "name": "stderr",
     "output_type": "stream",
     "text": [
      "[Parallel(n_jobs=-1)]: Done 140 out of 140 | elapsed:    7.2s remaining:    0.0s\n",
      "[Parallel(n_jobs=-1)]: Done 140 out of 140 | elapsed:    7.2s finished\n"
     ]
    }
   ],
   "source": [
    "# Logistic regression model with classification report\n",
    "lr = LogisticRegression()\n",
    "lr_param_grid = {\"C\": [0.001, 0.01, 0.1, 1, 10, 100, 1000], \"penalty\": ['l1','l2'], \"solver\":['liblinear','saga']}\n",
    "train_model(X,y,lr, lr_param_grid)"
   ]
  },
  {
   "cell_type": "code",
   "execution_count": 17,
   "metadata": {
    "scrolled": false
   },
   "outputs": [
    {
     "name": "stderr",
     "output_type": "stream",
     "text": [
      "[Parallel(n_jobs=-1)]: Using backend LokyBackend with 8 concurrent workers.\n"
     ]
    },
    {
     "name": "stdout",
     "output_type": "stream",
     "text": [
      "Fitting 5 folds for each of 5 candidates, totalling 25 fits\n"
     ]
    },
    {
     "name": "stderr",
     "output_type": "stream",
     "text": [
      "[Parallel(n_jobs=-1)]: Done   2 tasks      | elapsed:  1.1min\n",
      "[Parallel(n_jobs=-1)]: Done   9 tasks      | elapsed:  2.4min\n",
      "[Parallel(n_jobs=-1)]: Done  13 out of  25 | elapsed:  3.5min remaining:  3.3min\n",
      "[Parallel(n_jobs=-1)]: Done  16 out of  25 | elapsed:  4.1min remaining:  2.3min\n",
      "[Parallel(n_jobs=-1)]: Done  19 out of  25 | elapsed:  5.0min remaining:  1.6min\n",
      "[Parallel(n_jobs=-1)]: Done  22 out of  25 | elapsed:  7.1min remaining:   57.6s\n",
      "[Parallel(n_jobs=-1)]: Done  25 out of  25 | elapsed:  9.5min remaining:    0.0s\n",
      "[Parallel(n_jobs=-1)]: Done  25 out of  25 | elapsed:  9.5min finished\n"
     ]
    },
    {
     "name": "stdout",
     "output_type": "stream",
     "text": [
      "Best hyperparameters: {'C': 0.1, 'kernel': 'linear'}\n",
      "              precision    recall  f1-score   support\n",
      "\n",
      "         0.0       0.98      0.99      0.99      2108\n",
      "         1.0       0.93      0.89      0.91       292\n",
      "\n",
      "    accuracy                           0.98      2400\n",
      "   macro avg       0.96      0.94      0.95      2400\n",
      "weighted avg       0.98      0.98      0.98      2400\n",
      "\n"
     ]
    }
   ],
   "source": [
    "# SVC model with classification report\n",
    "svc = SVC()\n",
    "svc_param_grid = [{'C':[0.1, 1, 10, 100, 1000], 'kernel': ['linear']}]\n",
    "train_model(X, y, svc, svc_param_grid)"
   ]
  },
  {
   "cell_type": "code",
   "execution_count": 18,
   "metadata": {},
   "outputs": [
    {
     "name": "stdout",
     "output_type": "stream",
     "text": [
      "Fitting 5 folds for each of 216 candidates, totalling 1080 fits\n"
     ]
    },
    {
     "name": "stderr",
     "output_type": "stream",
     "text": [
      "[Parallel(n_jobs=-1)]: Using backend LokyBackend with 8 concurrent workers.\n",
      "[Parallel(n_jobs=-1)]: Done   2 tasks      | elapsed:    0.2s\n",
      "[Parallel(n_jobs=-1)]: Done   9 tasks      | elapsed:    0.5s\n",
      "[Parallel(n_jobs=-1)]: Done  16 tasks      | elapsed:    1.8s\n",
      "[Parallel(n_jobs=-1)]: Done  25 tasks      | elapsed:    4.0s\n",
      "[Parallel(n_jobs=-1)]: Done  34 tasks      | elapsed:    4.6s\n",
      "[Parallel(n_jobs=-1)]: Done  45 tasks      | elapsed:    7.1s\n",
      "[Parallel(n_jobs=-1)]: Done  56 tasks      | elapsed:    9.6s\n",
      "[Parallel(n_jobs=-1)]: Done  69 tasks      | elapsed:   11.1s\n",
      "[Parallel(n_jobs=-1)]: Done  82 tasks      | elapsed:   14.3s\n",
      "[Parallel(n_jobs=-1)]: Done  97 tasks      | elapsed:   16.0s\n",
      "[Parallel(n_jobs=-1)]: Done 112 tasks      | elapsed:   19.7s\n",
      "[Parallel(n_jobs=-1)]: Done 129 tasks      | elapsed:   21.3s\n",
      "[Parallel(n_jobs=-1)]: Done 146 tasks      | elapsed:   25.2s\n",
      "[Parallel(n_jobs=-1)]: Done 165 tasks      | elapsed:   28.0s\n",
      "[Parallel(n_jobs=-1)]: Done 184 tasks      | elapsed:   31.1s\n",
      "[Parallel(n_jobs=-1)]: Done 205 tasks      | elapsed:   35.7s\n",
      "[Parallel(n_jobs=-1)]: Done 226 tasks      | elapsed:   38.7s\n",
      "[Parallel(n_jobs=-1)]: Done 249 tasks      | elapsed:   42.3s\n",
      "[Parallel(n_jobs=-1)]: Done 272 tasks      | elapsed:   46.8s\n",
      "[Parallel(n_jobs=-1)]: Done 297 tasks      | elapsed:   53.9s\n",
      "[Parallel(n_jobs=-1)]: Done 322 tasks      | elapsed:  1.0min\n",
      "[Parallel(n_jobs=-1)]: Done 349 tasks      | elapsed:  1.2min\n",
      "[Parallel(n_jobs=-1)]: Done 376 tasks      | elapsed:  1.3min\n",
      "[Parallel(n_jobs=-1)]: Done 405 tasks      | elapsed:  1.4min\n",
      "[Parallel(n_jobs=-1)]: Done 434 tasks      | elapsed:  1.6min\n",
      "[Parallel(n_jobs=-1)]: Done 465 tasks      | elapsed:  1.8min\n",
      "[Parallel(n_jobs=-1)]: Done 496 tasks      | elapsed:  1.9min\n",
      "[Parallel(n_jobs=-1)]: Done 529 tasks      | elapsed:  2.1min\n",
      "[Parallel(n_jobs=-1)]: Done 562 tasks      | elapsed:  2.3min\n",
      "[Parallel(n_jobs=-1)]: Done 597 tasks      | elapsed:  2.4min\n",
      "[Parallel(n_jobs=-1)]: Done 632 tasks      | elapsed:  2.5min\n",
      "[Parallel(n_jobs=-1)]: Done 669 tasks      | elapsed:  2.7min\n",
      "[Parallel(n_jobs=-1)]: Done 706 tasks      | elapsed:  2.8min\n",
      "[Parallel(n_jobs=-1)]: Done 745 tasks      | elapsed:  3.0min\n",
      "[Parallel(n_jobs=-1)]: Done 784 tasks      | elapsed:  3.1min\n",
      "[Parallel(n_jobs=-1)]: Done 825 tasks      | elapsed:  3.3min\n",
      "[Parallel(n_jobs=-1)]: Done 866 tasks      | elapsed:  3.6min\n",
      "[Parallel(n_jobs=-1)]: Done 909 tasks      | elapsed:  3.8min\n",
      "[Parallel(n_jobs=-1)]: Done 952 tasks      | elapsed:  4.2min\n",
      "[Parallel(n_jobs=-1)]: Done 997 tasks      | elapsed:  4.4min\n",
      "[Parallel(n_jobs=-1)]: Done 1042 tasks      | elapsed:  4.8min\n",
      "[Parallel(n_jobs=-1)]: Done 1080 out of 1080 | elapsed:  5.1min finished\n"
     ]
    },
    {
     "name": "stdout",
     "output_type": "stream",
     "text": [
      "Best hyperparameters: {'bootstrap': False, 'max_depth': 3, 'min_samples_leaf': 1, 'min_samples_split': 5, 'n_estimators': 200}\n",
      "              precision    recall  f1-score   support\n",
      "\n",
      "         0.0       0.99      0.99      0.99      2108\n",
      "         1.0       0.91      0.93      0.92       292\n",
      "\n",
      "    accuracy                           0.98      2400\n",
      "   macro avg       0.95      0.96      0.95      2400\n",
      "weighted avg       0.98      0.98      0.98      2400\n",
      "\n"
     ]
    }
   ],
   "source": [
    "# Random Forest Classifier with Classification report\n",
    "rf = RandomForestClassifier()\n",
    "rf_param_grid = {\n",
    "                 'n_estimators' : [10,50,100,200,500,1000],\n",
    "                 'max_depth' : [3,None],\n",
    "                 'min_samples_split' : [2,5,10],\n",
    "                 'min_samples_leaf' : [1,2,3],\n",
    "                 'bootstrap':[True, False]}\n",
    "train_model(X,y,rf, rf_param_grid)"
   ]
  },
  {
   "cell_type": "code",
   "execution_count": 19,
   "metadata": {},
   "outputs": [
    {
     "name": "stdout",
     "output_type": "stream",
     "text": [
      "Fitting 5 folds for each of 8 candidates, totalling 40 fits\n"
     ]
    },
    {
     "name": "stderr",
     "output_type": "stream",
     "text": [
      "[Parallel(n_jobs=-1)]: Using backend LokyBackend with 8 concurrent workers.\n",
      "[Parallel(n_jobs=-1)]: Done   2 tasks      | elapsed:    0.2s\n",
      "[Parallel(n_jobs=-1)]: Done   9 tasks      | elapsed:    0.4s\n",
      "[Parallel(n_jobs=-1)]: Done  16 tasks      | elapsed:    0.5s\n",
      "[Parallel(n_jobs=-1)]: Done  25 tasks      | elapsed:    0.9s\n",
      "[Parallel(n_jobs=-1)]: Done  30 out of  40 | elapsed:    1.0s remaining:    0.3s\n",
      "[Parallel(n_jobs=-1)]: Done  35 out of  40 | elapsed:    1.2s remaining:    0.1s\n",
      "[Parallel(n_jobs=-1)]: Done  40 out of  40 | elapsed:    1.2s remaining:    0.0s\n",
      "[Parallel(n_jobs=-1)]: Done  40 out of  40 | elapsed:    1.2s finished\n"
     ]
    },
    {
     "name": "stdout",
     "output_type": "stream",
     "text": [
      "Best hyperparameters: {'n_neighbors': 3}\n",
      "              precision    recall  f1-score   support\n",
      "\n",
      "         0.0       0.98      0.99      0.99      2108\n",
      "         1.0       0.95      0.84      0.89       292\n",
      "\n",
      "    accuracy                           0.97      2400\n",
      "   macro avg       0.96      0.91      0.94      2400\n",
      "weighted avg       0.97      0.97      0.97      2400\n",
      "\n"
     ]
    }
   ],
   "source": [
    "knn = KNeighborsClassifier()\n",
    "n = list(range(1,9))\n",
    "knn_param_grid = [{'n_neighbors':n}]\n",
    "train_model(X,y,knn,knn_param_grid)"
   ]
  },
  {
   "cell_type": "markdown",
   "metadata": {},
   "source": [
    "Looking above, it seems the logistic regression may have performed the best. The accuracy score of the KNearestNeighbor classifier was the lowest, with 97%. The other models all scored 98% accuracy, but the logistic regression had the highest f1 score for the adopted user category. Let’s look closer at it and the coefficients it determined were more significant."
   ]
  },
  {
   "cell_type": "code",
   "execution_count": 20,
   "metadata": {},
   "outputs": [
    {
     "name": "stdout",
     "output_type": "stream",
     "text": [
      "              precision    recall  f1-score   support\n",
      "\n",
      "         0.0       0.99      0.99      0.99      2108\n",
      "         1.0       0.95      0.90      0.93       292\n",
      "\n",
      "    accuracy                           0.98      2400\n",
      "   macro avg       0.97      0.95      0.96      2400\n",
      "weighted avg       0.98      0.98      0.98      2400\n",
      "\n",
      "                                        coef\n",
      "account_age                         0.049482\n",
      "opted_in_to_mailing_list            0.000000\n",
      "enabled_for_marketing_drip          0.000000\n",
      "creation_source_GUEST_INVITE        0.000000\n",
      "creation_source_ORG_INVITE          0.000000\n",
      "creation_source_SIGNUP              0.000000\n",
      "creation_source_SIGNUP_GOOGLE_AUTH  0.000000\n",
      "invited_by_user_id                 -0.000028\n",
      "org_id                             -0.000067\n",
      "creation_source_PERSONAL_PROJECTS  -0.109701\n"
     ]
    }
   ],
   "source": [
    "# Create the logistic regression model outside of the function to see coefficient significance\n",
    "lr_model = LogisticRegression(C= 0.1, penalty= 'l1', solver= 'liblinear')\n",
    "\n",
    "Xt_train, Xt_test, yt_train, yt_test = train_test_split(X, y, test_size=0.2, random_state=42)\n",
    "\n",
    "lr_model.fit(Xt_train, yt_train)\n",
    "yt_pred = lr_model.predict(Xt_test)\n",
    "\n",
    "# Check that model is the same\n",
    "print(classification_report(yt_test, yt_pred))\n",
    "\n",
    "# Print list of coefficients. Positive values correlate to an addopted user, negative to a user who is not.\n",
    "print(pd.DataFrame(lr_model.coef_.tolist()[0], index=list(X.columns), columns=[\"coef\"]).sort_values(by=\"coef\", ascending=False))"
   ]
  },
  {
   "cell_type": "code",
   "execution_count": 21,
   "metadata": {},
   "outputs": [
    {
     "data": {
      "image/png": "[encoded data removed]",
      "text/plain": [
       "<Figure size 720x432 with 1 Axes>"
      ]
     },
     "metadata": {
      "needs_background": "light"
     },
     "output_type": "display_data"
    }
   ],
   "source": [
    "# Plot ROC-curve\n",
    "yt_pred_prob = lr_model.predict_proba(Xt_test)[:,1]\n",
    "\n",
    "fpr, tpr, thresholds = roc_curve(yt_test,yt_pred_prob)\n",
    "\n",
    "roc_auc = auc(fpr, tpr)\n",
    "\n",
    "plt.subplots(figsize=(10,6))\n",
    "plt.plot(fpr, tpr,'b', label= 'AUC = %0.2f' %roc_auc)\n",
    "plt.plot([0,1],[0,1], \"k--\")\n",
    "plt.xlim([0,1])\n",
    "plt.ylim([0,1.05])\n",
    "plt.xlabel(\"False Positive Rate\")\n",
    "plt.ylabel(\"True Positive Rate\")\n",
    "plt.title(\"ROC-Curve for Logistic Regression (Lasso Regression)\")\n",
    "plt.show()"
   ]
  },
  {
   "cell_type": "markdown",
   "metadata": {},
   "source": [
    "Looking at the coefficients above, we can see that the most powerful feature for determining if someone is an adopted user is if the creation source was in the personal project category. This means the user was invited to join another user’s personal workspace, but this seems to be a negative feature. Following this, the account age seems to indicate more of a positive feature for being an adopted user."
   ]
  }
 ],
 "metadata": {
  "kernelspec": {
   "display_name": "Python 3",
   "language": "python",
   "name": "python3"
  },
  "language_info": {
   "codemirror_mode": {
    "name": "ipython",
    "version": 3
   },
   "file_extension": ".py",
   "mimetype": "text/x-python",
   "name": "python",
   "nbconvert_exporter": "python",
   "pygments_lexer": "ipython3",
   "version": "3.7.3"
  }
 },
 "nbformat": 4,
 "nbformat_minor": 2
}
