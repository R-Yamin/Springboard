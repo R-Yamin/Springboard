{
 "cells": [
  {
   "cell_type": "markdown",
   "metadata": {},
   "source": [
    "****\n",
    "## JSON exercise\n",
    "\n",
    "Using data in file 'data/world_bank_projects.json' and the techniques demonstrated above,\n",
    "1. Find the 10 countries with most projects\n",
    "2. Find the top 10 major project themes (using column 'mjtheme_namecode')\n",
    "3. In 2. above you will notice that some entries have only the code and the name is missing. Create a dataframe with the missing names filled in."
   ]
  },
  {
   "cell_type": "code",
   "execution_count": 1,
   "metadata": {},
   "outputs": [],
   "source": [
    "import pandas as pd\n",
    "import numpy as np\n",
    "import json\n",
    "from pandas.io.json import json_normalize"
   ]
  },
  {
   "cell_type": "markdown",
   "metadata": {},
   "source": [
    "****\n",
    "## 1. Find the 10 countries with the most projects\n"
   ]
  },
  {
   "cell_type": "code",
   "execution_count": 2,
   "metadata": {},
   "outputs": [
    {
     "name": "stdout",
     "output_type": "stream",
     "text": [
      "People's Republic of China         19\n",
      "Republic of Indonesia              19\n",
      "Socialist Republic of Vietnam      17\n",
      "Republic of India                  16\n",
      "Republic of Yemen                  13\n",
      "People's Republic of Bangladesh    12\n",
      "Nepal                              12\n",
      "Kingdom of Morocco                 12\n",
      "Republic of Mozambique             11\n",
      "Africa                             11\n",
      "Name: countryname, dtype: int64\n"
     ]
    }
   ],
   "source": [
    "# Turn JSON into a dataframe and assign to variable json_df\n",
    "json_df=pd.read_json( 'data/world_bank_projects.json')\n",
    "\n",
    "#extract the countries code column from json_df\n",
    "country = json_df['countryname']\n",
    "\n",
    "#count the number of times certain contries come up\n",
    "country_count=country.value_counts()\n",
    "\n",
    "#print the top 10 countries\n",
    "print(country_count.head(10))"
   ]
  },
  {
   "cell_type": "markdown",
   "metadata": {},
   "source": [
    "****\n",
    "## 2. Find the top 10 major project themes (using column 'mjtheme_namecode')"
   ]
  },
  {
   "cell_type": "code",
   "execution_count": 3,
   "metadata": {},
   "outputs": [
    {
     "name": "stdout",
     "output_type": "stream",
     "text": [
      "{'code': '11', 'name': 'Environment and natural resources management'}    223\n",
      "{'code': '10', 'name': 'Rural development'}                               202\n",
      "{'code': '8', 'name': 'Human development'}                                197\n",
      "{'code': '2', 'name': 'Public sector governance'}                         184\n",
      "{'code': '6', 'name': 'Social protection and risk management'}            158\n",
      "{'code': '4', 'name': 'Financial and private sector development'}         130\n",
      "{'code': '7', 'name': 'Social dev/gender/inclusion'}                      119\n",
      "{'code': '5', 'name': 'Trade and integration'}                             72\n",
      "{'code': '9', 'name': 'Urban development'}                                 47\n",
      "{'code': '1', 'name': 'Economic management'}                               33\n",
      "dtype: int64\n"
     ]
    }
   ],
   "source": [
    "#store the mjtheme_namecode column in a variable: ptheme\n",
    "ptheme = json_df.mjtheme_namecode\n",
    "\n",
    "#create an empty list: themes\n",
    "themes=[]\n",
    "\n",
    "#since each item of the mjtheme_namecode is a dictionary with\n",
    "#two key,value pairs, create a for loop to pull out each individual pair\n",
    "for item in ptheme:\n",
    "    for dict_item in item:\n",
    "        themes.append(dict_item)\n",
    "\n",
    "#turn the list into a panda Series\n",
    "themes_S=pd.Series(themes)\n",
    "\n",
    "#count the values for each item in the list and retrieve the top 10\n",
    "print(themes_S.value_counts().head(10))"
   ]
  },
  {
   "cell_type": "markdown",
   "metadata": {},
   "source": [
    "****\n",
    "## 3. Create a dataframe with the missing names filled in."
   ]
  },
  {
   "cell_type": "code",
   "execution_count": 4,
   "metadata": {},
   "outputs": [
    {
     "name": "stdout",
     "output_type": "stream",
     "text": [
      "   code                                          name\n",
      "0     8                             Human development\n",
      "1    11  Environment and natural resources management\n",
      "2     1                           Economic management\n",
      "3     6         Social protection and risk management\n",
      "4     5                         Trade and integration\n",
      "5     2                      Public sector governance\n",
      "6    11  Environment and natural resources management\n",
      "7     6         Social protection and risk management\n",
      "8     7                   Social dev/gender/inclusion\n",
      "9     7                   Social dev/gender/inclusion\n",
      "10    5                         Trade and integration\n"
     ]
    }
   ],
   "source": [
    "#Turn list (themes) into a dataframe with from_dict() method\n",
    "tdf = pd.DataFrame.from_dict(themes)\n",
    "\n",
    "#sort the values by code and name to group the missing values together\n",
    "tdf = tdf.sort_values(['code', 'name'])\n",
    "\n",
    "#turn the missing values of empty strings into NAN\n",
    "tdf.name[tdf.name==''] = np.nan\n",
    "\n",
    "#backfill the values to ensure name correctly fills matching code\n",
    "tdf.name = tdf.name.fillna(method='bfill')\n",
    "\n",
    "# sort by index and print dataframe\n",
    "print(tdf.sort_index().head(11))"
   ]
  },
  {
   "cell_type": "code",
   "execution_count": null,
   "metadata": {},
   "outputs": [],
   "source": []
  }
 ],
 "metadata": {
  "kernelspec": {
   "display_name": "Python 3",
   "language": "python",
   "name": "python3"
  },
  "language_info": {
   "codemirror_mode": {
    "name": "ipython",
    "version": 3
   },
   "file_extension": ".py",
   "mimetype": "text/x-python",
   "name": "python",
   "nbconvert_exporter": "python",
   "pygments_lexer": "ipython3",
   "version": "3.7.3"
  }
 },
 "nbformat": 4,
 "nbformat_minor": 2
}
